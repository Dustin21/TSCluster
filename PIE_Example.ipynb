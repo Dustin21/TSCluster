{
 "cells": [
  {
   "cell_type": "code",
   "execution_count": 1,
   "metadata": {
    "collapsed": true
   },
   "outputs": [
    {
     "name": "stderr",
     "output_type": "stream",
     "text": [
      "C:\\Users\\dustin.johnson\\AppData\\Local\\Continuum\\Anaconda3\\lib\\site-packages\\statsmodels\\compat\\pandas.py:56: FutureWarning: The pandas.core.datetools module is deprecated and will be removed in a future version. Please use the pandas.tseries module instead.\n  from pandas.core import datetools\n"
     ]
    }
   ],
   "source": [
    "from IO import ImportFromCSV\n",
    "from FeatureExtraction import FeatureExtraction\n",
    "\n",
    "data = ImportFromCSV(\"data/elec_sample.csv\").read_csv()"
   ]
  },
  {
   "cell_type": "code",
   "execution_count": 2,
   "metadata": {},
   "outputs": [
    {
     "data": {
      "text/html": [
       "<div>\n",
       "<style>\n",
       "    .dataframe thead tr:only-child th {\n",
       "        text-align: right;\n",
       "    }\n",
       "\n",
       "    .dataframe thead th {\n",
       "        text-align: left;\n",
       "    }\n",
       "\n",
       "    .dataframe tbody tr th {\n",
       "        vertical-align: top;\n",
       "    }\n",
       "</style>\n",
       "<table border=\"1\" class=\"dataframe\">\n",
       "  <thead>\n",
       "    <tr style=\"text-align: right;\">\n",
       "      <th></th>\n",
       "      <th>UserID</th>\n",
       "      <th>20160101</th>\n",
       "      <th>20160102</th>\n",
       "      <th>20160103</th>\n",
       "      <th>20160104</th>\n",
       "      <th>20160105</th>\n",
       "      <th>20160106</th>\n",
       "      <th>20160107</th>\n",
       "      <th>20160108</th>\n",
       "      <th>20160109</th>\n",
       "      <th>...</th>\n",
       "      <th>20161222</th>\n",
       "      <th>20161223</th>\n",
       "      <th>20161224</th>\n",
       "      <th>20161225</th>\n",
       "      <th>20161226</th>\n",
       "      <th>20161227</th>\n",
       "      <th>20161228</th>\n",
       "      <th>20161229</th>\n",
       "      <th>20161230</th>\n",
       "      <th>20161231</th>\n",
       "    </tr>\n",
       "  </thead>\n",
       "  <tbody>\n",
       "    <tr>\n",
       "      <th>0</th>\n",
       "      <td>10066150</td>\n",
       "      <td>0.790833</td>\n",
       "      <td>1.221250</td>\n",
       "      <td>1.231666</td>\n",
       "      <td>0.924166</td>\n",
       "      <td>0.993750</td>\n",
       "      <td>1.071250</td>\n",
       "      <td>0.979166</td>\n",
       "      <td>1.326250</td>\n",
       "      <td>1.432916</td>\n",
       "      <td>...</td>\n",
       "      <td>1.245833</td>\n",
       "      <td>0.955000</td>\n",
       "      <td>1.445000</td>\n",
       "      <td>0.982083</td>\n",
       "      <td>0.764166</td>\n",
       "      <td>0.795833</td>\n",
       "      <td>0.895833</td>\n",
       "      <td>0.766666</td>\n",
       "      <td>0.795000</td>\n",
       "      <td>0.623333</td>\n",
       "    </tr>\n",
       "    <tr>\n",
       "      <th>1</th>\n",
       "      <td>10077365</td>\n",
       "      <td>0.000000</td>\n",
       "      <td>0.000000</td>\n",
       "      <td>0.000000</td>\n",
       "      <td>0.000000</td>\n",
       "      <td>0.000000</td>\n",
       "      <td>0.000000</td>\n",
       "      <td>0.000000</td>\n",
       "      <td>0.000000</td>\n",
       "      <td>0.000000</td>\n",
       "      <td>...</td>\n",
       "      <td>0.000000</td>\n",
       "      <td>0.000000</td>\n",
       "      <td>0.000000</td>\n",
       "      <td>0.000000</td>\n",
       "      <td>0.000000</td>\n",
       "      <td>0.000000</td>\n",
       "      <td>0.000000</td>\n",
       "      <td>0.000000</td>\n",
       "      <td>0.000000</td>\n",
       "      <td>0.000000</td>\n",
       "    </tr>\n",
       "    <tr>\n",
       "      <th>2</th>\n",
       "      <td>10099093</td>\n",
       "      <td>0.787500</td>\n",
       "      <td>0.669583</td>\n",
       "      <td>1.549583</td>\n",
       "      <td>0.686666</td>\n",
       "      <td>0.762500</td>\n",
       "      <td>0.808333</td>\n",
       "      <td>1.241250</td>\n",
       "      <td>0.633750</td>\n",
       "      <td>1.039166</td>\n",
       "      <td>...</td>\n",
       "      <td>0.764166</td>\n",
       "      <td>0.798333</td>\n",
       "      <td>1.582083</td>\n",
       "      <td>1.176666</td>\n",
       "      <td>0.560416</td>\n",
       "      <td>0.684583</td>\n",
       "      <td>1.014166</td>\n",
       "      <td>0.887916</td>\n",
       "      <td>0.645833</td>\n",
       "      <td>0.782083</td>\n",
       "    </tr>\n",
       "    <tr>\n",
       "      <th>3</th>\n",
       "      <td>10118979</td>\n",
       "      <td>0.879583</td>\n",
       "      <td>0.907083</td>\n",
       "      <td>0.932083</td>\n",
       "      <td>1.656666</td>\n",
       "      <td>1.559166</td>\n",
       "      <td>1.247916</td>\n",
       "      <td>0.929583</td>\n",
       "      <td>0.947500</td>\n",
       "      <td>0.869583</td>\n",
       "      <td>...</td>\n",
       "      <td>1.258333</td>\n",
       "      <td>1.156666</td>\n",
       "      <td>1.189166</td>\n",
       "      <td>1.329583</td>\n",
       "      <td>1.308750</td>\n",
       "      <td>1.077083</td>\n",
       "      <td>1.252083</td>\n",
       "      <td>1.292916</td>\n",
       "      <td>1.330833</td>\n",
       "      <td>1.443750</td>\n",
       "    </tr>\n",
       "    <tr>\n",
       "      <th>4</th>\n",
       "      <td>10183338</td>\n",
       "      <td>0.163333</td>\n",
       "      <td>0.162916</td>\n",
       "      <td>0.160833</td>\n",
       "      <td>0.210000</td>\n",
       "      <td>0.205416</td>\n",
       "      <td>0.210000</td>\n",
       "      <td>0.192500</td>\n",
       "      <td>0.189583</td>\n",
       "      <td>0.154166</td>\n",
       "      <td>...</td>\n",
       "      <td>0.215833</td>\n",
       "      <td>0.191250</td>\n",
       "      <td>0.162500</td>\n",
       "      <td>0.172083</td>\n",
       "      <td>0.176250</td>\n",
       "      <td>0.172083</td>\n",
       "      <td>0.209583</td>\n",
       "      <td>0.208750</td>\n",
       "      <td>0.187916</td>\n",
       "      <td>0.177500</td>\n",
       "    </tr>\n",
       "  </tbody>\n",
       "</table>\n",
       "<p>5 rows × 367 columns</p>\n",
       "</div>"
      ],
      "text/plain": [
       "<div>\n",
       "<style>\n",
       "    .dataframe thead tr:only-child th {\n",
       "        text-align: right;\n",
       "    }\n",
       "\n",
       "    .dataframe thead th {\n",
       "        text-align: left;\n",
       "    }\n",
       "\n",
       "    .dataframe tbody tr th {\n",
       "        vertical-align: top;\n",
       "    }\n",
       "</style>\n",
       "<table border=\"1\" class=\"dataframe\">\n",
       "  <thead>\n",
       "    <tr style=\"text-align: right;\">\n",
       "      <th></th>\n",
       "      <th>UserID</th>\n",
       "      <th>20160101</th>\n",
       "      <th>20160102</th>\n",
       "      <th>20160103</th>\n",
       "      <th>20160104</th>\n",
       "      <th>20160105</th>\n",
       "      <th>20160106</th>\n",
       "      <th>20160107</th>\n",
       "      <th>20160108</th>\n",
       "      <th>20160109</th>\n",
       "      <th>...</th>\n",
       "      <th>20161222</th>\n",
       "      <th>20161223</th>\n",
       "      <th>20161224</th>\n",
       "      <th>20161225</th>\n",
       "      <th>20161226</th>\n",
       "      <th>20161227</th>\n",
       "      <th>20161228</th>\n",
       "      <th>20161229</th>\n",
       "      <th>20161230</th>\n",
       "      <th>20161231</th>\n",
       "    </tr>\n",
       "  </thead>\n",
       "  <tbody>\n",
       "    <tr>\n",
       "      <th>0</th>\n",
       "      <td>10066150</td>\n",
       "      <td>0.790833</td>\n",
       "      <td>1.221250</td>\n",
       "      <td>1.231666</td>\n",
       "      <td>0.924166</td>\n",
       "      <td>0.993750</td>\n",
       "      <td>1.071250</td>\n",
       "      <td>0.979166</td>\n",
       "      <td>1.326250</td>\n",
       "      <td>1.432916</td>\n",
       "      <td>...</td>\n",
       "      <td>1.245833</td>\n",
       "      <td>0.955000</td>\n",
       "      <td>1.445000</td>\n",
       "      <td>0.982083</td>\n",
       "      <td>0.764166</td>\n",
       "      <td>0.795833</td>\n",
       "      <td>0.895833</td>\n",
       "      <td>0.766666</td>\n",
       "      <td>0.795000</td>\n",
       "      <td>0.623333</td>\n",
       "    </tr>\n",
       "    <tr>\n",
       "      <th>1</th>\n",
       "      <td>10077365</td>\n",
       "      <td>0.000000</td>\n",
       "      <td>0.000000</td>\n",
       "      <td>0.000000</td>\n",
       "      <td>0.000000</td>\n",
       "      <td>0.000000</td>\n",
       "      <td>0.000000</td>\n",
       "      <td>0.000000</td>\n",
       "      <td>0.000000</td>\n",
       "      <td>0.000000</td>\n",
       "      <td>...</td>\n",
       "      <td>0.000000</td>\n",
       "      <td>0.000000</td>\n",
       "      <td>0.000000</td>\n",
       "      <td>0.000000</td>\n",
       "      <td>0.000000</td>\n",
       "      <td>0.000000</td>\n",
       "      <td>0.000000</td>\n",
       "      <td>0.000000</td>\n",
       "      <td>0.000000</td>\n",
       "      <td>0.000000</td>\n",
       "    </tr>\n",
       "    <tr>\n",
       "      <th>2</th>\n",
       "      <td>10099093</td>\n",
       "      <td>0.787500</td>\n",
       "      <td>0.669583</td>\n",
       "      <td>1.549583</td>\n",
       "      <td>0.686666</td>\n",
       "      <td>0.762500</td>\n",
       "      <td>0.808333</td>\n",
       "      <td>1.241250</td>\n",
       "      <td>0.633750</td>\n",
       "      <td>1.039166</td>\n",
       "      <td>...</td>\n",
       "      <td>0.764166</td>\n",
       "      <td>0.798333</td>\n",
       "      <td>1.582083</td>\n",
       "      <td>1.176666</td>\n",
       "      <td>0.560416</td>\n",
       "      <td>0.684583</td>\n",
       "      <td>1.014166</td>\n",
       "      <td>0.887916</td>\n",
       "      <td>0.645833</td>\n",
       "      <td>0.782083</td>\n",
       "    </tr>\n",
       "    <tr>\n",
       "      <th>3</th>\n",
       "      <td>10118979</td>\n",
       "      <td>0.879583</td>\n",
       "      <td>0.907083</td>\n",
       "      <td>0.932083</td>\n",
       "      <td>1.656666</td>\n",
       "      <td>1.559166</td>\n",
       "      <td>1.247916</td>\n",
       "      <td>0.929583</td>\n",
       "      <td>0.947500</td>\n",
       "      <td>0.869583</td>\n",
       "      <td>...</td>\n",
       "      <td>1.258333</td>\n",
       "      <td>1.156666</td>\n",
       "      <td>1.189166</td>\n",
       "      <td>1.329583</td>\n",
       "      <td>1.308750</td>\n",
       "      <td>1.077083</td>\n",
       "      <td>1.252083</td>\n",
       "      <td>1.292916</td>\n",
       "      <td>1.330833</td>\n",
       "      <td>1.443750</td>\n",
       "    </tr>\n",
       "    <tr>\n",
       "      <th>4</th>\n",
       "      <td>10183338</td>\n",
       "      <td>0.163333</td>\n",
       "      <td>0.162916</td>\n",
       "      <td>0.160833</td>\n",
       "      <td>0.210000</td>\n",
       "      <td>0.205416</td>\n",
       "      <td>0.210000</td>\n",
       "      <td>0.192500</td>\n",
       "      <td>0.189583</td>\n",
       "      <td>0.154166</td>\n",
       "      <td>...</td>\n",
       "      <td>0.215833</td>\n",
       "      <td>0.191250</td>\n",
       "      <td>0.162500</td>\n",
       "      <td>0.172083</td>\n",
       "      <td>0.176250</td>\n",
       "      <td>0.172083</td>\n",
       "      <td>0.209583</td>\n",
       "      <td>0.208750</td>\n",
       "      <td>0.187916</td>\n",
       "      <td>0.177500</td>\n",
       "    </tr>\n",
       "  </tbody>\n",
       "</table>\n",
       "<p>5 rows × 367 columns</p>\n",
       "</div>"
      ]
     },
     "execution_count": 2,
     "metadata": {},
     "output_type": "execute_result"
    }
   ],
   "source": [
    "data.head()"
   ]
  },
  {
   "cell_type": "code",
   "execution_count": 10,
   "metadata": {},
   "outputs": [
    {
     "name": "stderr",
     "output_type": "stream",
     "text": [
      "\rFeature Extraction:   0%|          | 0/64 [00:00<?, ?it/s]"
     ]
    },
    {
     "name": "stderr",
     "output_type": "stream",
     "text": [
      "\rFeature Extraction:   2%|▏         | 1/64 [00:02<02:46,  2.64s/it]"
     ]
    },
    {
     "name": "stderr",
     "output_type": "stream",
     "text": [
      "\rFeature Extraction:   8%|▊         | 5/64 [00:02<01:49,  1.86s/it]"
     ]
    },
    {
     "name": "stderr",
     "output_type": "stream",
     "text": [
      "\rFeature Extraction:  20%|██        | 13/64 [00:03<01:07,  1.32s/it]"
     ]
    },
    {
     "name": "stderr",
     "output_type": "stream",
     "text": [
      "\rFeature Extraction:  27%|██▋       | 17/64 [00:04<00:47,  1.01s/it]"
     ]
    },
    {
     "name": "stderr",
     "output_type": "stream",
     "text": [
      "\rFeature Extraction:  33%|███▎      | 21/64 [00:04<00:31,  1.39it/s]"
     ]
    },
    {
     "name": "stderr",
     "output_type": "stream",
     "text": [
      "\rFeature Extraction:  39%|███▉      | 25/64 [00:04<00:20,  1.94it/s]"
     ]
    },
    {
     "name": "stderr",
     "output_type": "stream",
     "text": [
      "\rFeature Extraction:  45%|████▌     | 29/64 [00:04<00:13,  2.63it/s]"
     ]
    },
    {
     "name": "stderr",
     "output_type": "stream",
     "text": [
      "\rFeature Extraction:  52%|█████▏    | 33/64 [00:06<00:10,  2.83it/s]"
     ]
    },
    {
     "name": "stderr",
     "output_type": "stream",
     "text": [
      "\rFeature Extraction:  58%|█████▊    | 37/64 [00:06<00:07,  3.69it/s]"
     ]
    },
    {
     "name": "stderr",
     "output_type": "stream",
     "text": [
      "\rFeature Extraction:  70%|███████   | 45/64 [00:06<00:03,  4.98it/s]"
     ]
    },
    {
     "name": "stderr",
     "output_type": "stream",
     "text": [
      "\rFeature Extraction:  77%|███████▋  | 49/64 [00:07<00:03,  4.30it/s]"
     ]
    },
    {
     "name": "stderr",
     "output_type": "stream",
     "text": [
      "\rFeature Extraction:  83%|████████▎ | 53/64 [00:08<00:02,  5.47it/s]"
     ]
    },
    {
     "name": "stderr",
     "output_type": "stream",
     "text": [
      "\rFeature Extraction:  95%|█████████▌| 61/64 [00:08<00:00,  7.45it/s]"
     ]
    },
    {
     "name": "stderr",
     "output_type": "stream",
     "text": [
      "\rFeature Extraction: 100%|██████████| 64/64 [00:08<00:00,  7.60it/s]"
     ]
    },
    {
     "name": "stderr",
     "output_type": "stream",
     "text": [
      "\n"
     ]
    }
   ],
   "source": [
    "if __name__ == '__main__':\n",
    "    features = FeatureExtraction(data, is_tidy=False).\\\n",
    "        feature_extract(column_id='UserID', column_sort='Time')"
   ]
  },
  {
   "cell_type": "code",
   "execution_count": 9,
   "metadata": {},
   "outputs": [
    {
     "data": {
      "text/plain": [
       "array([[  3.61436720e+02,   7.49008280e+01,   2.55646448e-01, ...,\n          0.00000000e+00,   1.57079277e-01,   0.00000000e+00],\n       [  1.56250000e-06,   2.50000000e-03,  -3.07133801e-03, ...,\n          0.00000000e+00,   4.25746141e-09,   0.00000000e+00],\n       [  2.77075927e+02,   1.01987919e+02,   5.36938677e-02, ...,\n          0.00000000e+00,   6.96107917e-02,   0.00000000e+00],\n       ..., \n       [  4.87433843e+02,   9.75093160e+01,   4.72495000e-01, ...,\n          0.00000000e+00,   2.25553674e-01,   0.00000000e+00],\n       [  2.29710810e+02,   6.37061990e+01,   1.02211835e-01, ...,\n          0.00000000e+00,   4.42134280e-02,   0.00000000e+00],\n       [  6.94912646e+03,   3.74113340e+02,   9.80654121e-02, ...,\n          0.00000000e+00,   1.10326690e+00,   1.00000000e+00]])"
      ]
     },
     "execution_count": 9,
     "metadata": {},
     "output_type": "execute_result"
    }
   ],
   "source": [
    "f1 = features.as_matrix()\n",
    "f1"
   ]
  },
  {
   "cell_type": "code",
   "execution_count": null,
   "metadata": {},
   "outputs": [],
   "source": [
    ""
   ]
  }
 ],
 "metadata": {
  "kernelspec": {
   "display_name": "Python 2",
   "language": "python",
   "name": "python2"
  },
  "language_info": {
   "codemirror_mode": {
    "name": "ipython",
    "version": 2.0
   },
   "file_extension": ".py",
   "mimetype": "text/x-python",
   "name": "python",
   "nbconvert_exporter": "python",
   "pygments_lexer": "ipython2",
   "version": "2.7.6"
  }
 },
 "nbformat": 4,
 "nbformat_minor": 0
}