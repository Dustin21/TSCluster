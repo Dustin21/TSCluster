{
 "cells": [
  {
   "cell_type": "code",
   "execution_count": 1,
   "metadata": {
    "collapsed": true
   },
   "outputs": [
    {
     "name": "stderr",
     "output_type": "stream",
     "text": [
      "C:\\Users\\dustin.johnson\\AppData\\Local\\Continuum\\Anaconda3\\lib\\site-packages\\statsmodels\\compat\\pandas.py:56: FutureWarning: The pandas.core.datetools module is deprecated and will be removed in a future version. Please use the pandas.tseries module instead.\n  from pandas.core import datetools\n"
     ]
    }
   ],
   "source": [
    "from IO import ImportFromCSV\n",
    "from FeatureExtraction import FeatureExtraction\n",
    "\n",
    "data = ImportFromCSV(\"data/elec_sample.csv\").read_csv()"
   ]
  },
  {
   "cell_type": "code",
   "execution_count": null,
   "metadata": {},
   "outputs": [
    {
     "ename": "SyntaxError",
     "evalue": "invalid syntax (<ipython-input-5-9498af34da78>, line 1)",
     "traceback": [
      "\u001b[1;36m  File \u001b[1;32m\"<ipython-input-5-9498af34da78>\"\u001b[1;36m, line \u001b[1;32m1\u001b[0m\n\u001b[1;33m    data[, 1:4].head()\u001b[0m\n\u001b[1;37m         ^\u001b[0m\n\u001b[1;31mSyntaxError\u001b[0m\u001b[1;31m:\u001b[0m invalid syntax\n"
     ],
     "output_type": "error"
    }
   ],
   "source": [
    "data.head()"
   ]
  },
  {
   "cell_type": "code",
   "execution_count": 10,
   "metadata": {},
   "outputs": [
    {
     "name": "stderr",
     "output_type": "stream",
     "text": [
      "\rFeature Extraction:   0%|          | 0/64 [00:00<?, ?it/s]"
     ]
    },
    {
     "name": "stderr",
     "output_type": "stream",
     "text": [
      "\rFeature Extraction:   2%|▏         | 1/64 [00:02<02:46,  2.64s/it]"
     ]
    },
    {
     "name": "stderr",
     "output_type": "stream",
     "text": [
      "\rFeature Extraction:   8%|▊         | 5/64 [00:02<01:49,  1.86s/it]"
     ]
    },
    {
     "name": "stderr",
     "output_type": "stream",
     "text": [
      "\rFeature Extraction:  20%|██        | 13/64 [00:03<01:07,  1.32s/it]"
     ]
    },
    {
     "name": "stderr",
     "output_type": "stream",
     "text": [
      "\rFeature Extraction:  27%|██▋       | 17/64 [00:04<00:47,  1.01s/it]"
     ]
    },
    {
     "name": "stderr",
     "output_type": "stream",
     "text": [
      "\rFeature Extraction:  33%|███▎      | 21/64 [00:04<00:31,  1.39it/s]"
     ]
    },
    {
     "name": "stderr",
     "output_type": "stream",
     "text": [
      "\rFeature Extraction:  39%|███▉      | 25/64 [00:04<00:20,  1.94it/s]"
     ]
    },
    {
     "name": "stderr",
     "output_type": "stream",
     "text": [
      "\rFeature Extraction:  45%|████▌     | 29/64 [00:04<00:13,  2.63it/s]"
     ]
    },
    {
     "name": "stderr",
     "output_type": "stream",
     "text": [
      "\rFeature Extraction:  52%|█████▏    | 33/64 [00:06<00:10,  2.83it/s]"
     ]
    },
    {
     "name": "stderr",
     "output_type": "stream",
     "text": [
      "\rFeature Extraction:  58%|█████▊    | 37/64 [00:06<00:07,  3.69it/s]"
     ]
    },
    {
     "name": "stderr",
     "output_type": "stream",
     "text": [
      "\rFeature Extraction:  70%|███████   | 45/64 [00:06<00:03,  4.98it/s]"
     ]
    },
    {
     "name": "stderr",
     "output_type": "stream",
     "text": [
      "\rFeature Extraction:  77%|███████▋  | 49/64 [00:07<00:03,  4.30it/s]"
     ]
    },
    {
     "name": "stderr",
     "output_type": "stream",
     "text": [
      "\rFeature Extraction:  83%|████████▎ | 53/64 [00:08<00:02,  5.47it/s]"
     ]
    },
    {
     "name": "stderr",
     "output_type": "stream",
     "text": [
      "\rFeature Extraction:  95%|█████████▌| 61/64 [00:08<00:00,  7.45it/s]"
     ]
    },
    {
     "name": "stderr",
     "output_type": "stream",
     "text": [
      "\rFeature Extraction: 100%|██████████| 64/64 [00:08<00:00,  7.60it/s]"
     ]
    },
    {
     "name": "stderr",
     "output_type": "stream",
     "text": [
      "\n"
     ]
    }
   ],
   "source": [
    "if __name__ == '__main__':\n",
    "    features = FeatureExtraction(data, is_tidy=False).\\\n",
    "        feature_extract(column_id='UserID', column_sort='Time')"
   ]
  },
  {
   "cell_type": "code",
   "execution_count": 9,
   "metadata": {},
   "outputs": [
    {
     "data": {
      "text/plain": [
       "array([[  3.61436720e+02,   7.49008280e+01,   2.55646448e-01, ...,\n          0.00000000e+00,   1.57079277e-01,   0.00000000e+00],\n       [  1.56250000e-06,   2.50000000e-03,  -3.07133801e-03, ...,\n          0.00000000e+00,   4.25746141e-09,   0.00000000e+00],\n       [  2.77075927e+02,   1.01987919e+02,   5.36938677e-02, ...,\n          0.00000000e+00,   6.96107917e-02,   0.00000000e+00],\n       ..., \n       [  4.87433843e+02,   9.75093160e+01,   4.72495000e-01, ...,\n          0.00000000e+00,   2.25553674e-01,   0.00000000e+00],\n       [  2.29710810e+02,   6.37061990e+01,   1.02211835e-01, ...,\n          0.00000000e+00,   4.42134280e-02,   0.00000000e+00],\n       [  6.94912646e+03,   3.74113340e+02,   9.80654121e-02, ...,\n          0.00000000e+00,   1.10326690e+00,   1.00000000e+00]])"
      ]
     },
     "execution_count": 9,
     "metadata": {},
     "output_type": "execute_result"
    }
   ],
   "source": [
    "f1 = features.as_matrix()\n",
    "f1"
   ]
  },
  {
   "cell_type": "code",
   "execution_count": null,
   "metadata": {},
   "outputs": [],
   "source": [
    ""
   ]
  }
 ],
 "metadata": {
  "kernelspec": {
   "display_name": "Python 2",
   "language": "python",
   "name": "python2"
  },
  "language_info": {
   "codemirror_mode": {
    "name": "ipython",
    "version": 2
   },
   "file_extension": ".py",
   "mimetype": "text/x-python",
   "name": "python",
   "nbconvert_exporter": "python",
   "pygments_lexer": "ipython2",
   "version": "2.7.6"
  }
 },
 "nbformat": 4,
 "nbformat_minor": 0
}
